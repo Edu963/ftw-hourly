{
  "nbformat": 4,
  "nbformat_minor": 0,
  "metadata": {
    "colab": {
      "provenance": [],
      "authorship_tag": "ABX9TyMgUaCFEyvSxBvmZtBhOShq",
      "include_colab_link": true
    },
    "kernelspec": {
      "name": "python3",
      "display_name": "Python 3"
    },
    "language_info": {
      "name": "python"
    }
  },
  "cells": [
    {
      "cell_type": "markdown",
      "metadata": {
        "id": "view-in-github",
        "colab_type": "text"
      },
      "source": [
        "<a href=\"https://colab.research.google.com/github/Edu963/ftw-hourly/blob/master/guessnumber.ipynb\" target=\"_parent\"><img src=\"https://colab.research.google.com/assets/colab-badge.svg\" alt=\"Open In Colab\"/></a>"
      ]
    },
    {
      "cell_type": "code",
      "source": [
        "# source https://www.youtube.com/watch?v=8ext9G7xspg&t=313s&ab_channel=freeCodeCamp.org"
      ],
      "metadata": {
        "id": "8dzz-nHKP7a5"
      },
      "execution_count": null,
      "outputs": []
    },
    {
      "cell_type": "code",
      "execution_count": null,
      "metadata": {
        "id": "-IoEr_3zOtkp"
      },
      "outputs": [],
      "source": [
        "import random #library used to obtain random numbers\n",
        "#define funtion call guess with x as a parameter\n",
        "def guess (x):\n",
        "  random_number = random.ranint(1,x) #calls a random integer between 1 and X\n"
      ]
    }
  ]
}